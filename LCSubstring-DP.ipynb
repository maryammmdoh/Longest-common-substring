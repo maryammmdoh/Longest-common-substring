{
 "cells": [
  {
   "cell_type": "code",
   "execution_count": 16,
   "metadata": {},
   "outputs": [],
   "source": [
    "def longest_common_substring(str1, str2):\n",
    "    m = len(str1) + 1\n",
    "    n = len(str2) + 1\n",
    "\n",
    "    dp = []\n",
    "    for i in range(m):\n",
    "      row = []\n",
    "      for j in range(n):\n",
    "          row.append(0)\n",
    "      dp.append(row)\n",
    "\n",
    "    max_length = 0\n",
    "\n",
    "    ending_index = 0\n",
    "\n",
    "    for i in range(1, m):\n",
    "        for j in range(1, n):\n",
    "            if str1[i - 1] == str2[j - 1]:\n",
    "                dp[i][j] = dp[i - 1][j - 1] + 1\n",
    "                if dp[i][j] > max_length:\n",
    "                    max_length = dp[i][j]\n",
    "                    ending_index = i\n",
    "            else:\n",
    "                dp[i][j] = 0\n",
    "\n",
    "    start_index = ending_index - max_length\n",
    "    longest_substring = str1[start_index:ending_index]\n",
    "\n",
    "    print(\"Longest common substring:\", longest_substring)\n",
    "    print(\"Max lenth:\", max_length)\n",
    "\n",
    "    # Printing the dynamic programming table with strings above\n",
    "    print(\"Dynamic Programming Table:\")\n",
    "    print(\" \", end=\" \")\n",
    "    print(\" \", end=\" \")\n",
    "    for char in str2:\n",
    "        print(char, end=\" \")\n",
    "    print()\n",
    "    for i in range(m):\n",
    "        if i > 0:\n",
    "            print(str1[i - 1], end=\" \")\n",
    "        else:\n",
    "            print(\" \", end=\" \")\n",
    "        for j in range(n):\n",
    "            print(dp[i][j], end=\" \")\n",
    "        print()\n",
    "\n",
    "    return longest_substring,max_length,dp"
   ]
  },
  {
   "cell_type": "code",
   "execution_count": 17,
   "metadata": {},
   "outputs": [
    {
     "name": "stdout",
     "output_type": "stream",
     "text": [
      "Longest common substring: calm\n",
      "Max lenth: 4\n",
      "Dynamic Programming Table:\n",
      "    k e e p c a l m \n",
      "  0 0 0 0 0 0 0 0 0 \n",
      "c 0 0 0 0 0 1 0 0 0 \n",
      "a 0 0 0 0 0 0 2 0 0 \n",
      "l 0 0 0 0 0 0 0 3 0 \n",
      "m 0 0 0 0 0 0 0 0 4 \n",
      "d 0 0 0 0 0 0 0 0 0 \n",
      "o 0 0 0 0 0 0 0 0 0 \n",
      "w 0 0 0 0 0 0 0 0 0 \n",
      "n 0 0 0 0 0 0 0 0 0 \n"
     ]
    }
   ],
   "source": [
    "# Example usage\n",
    "string1 = \"calmdown\"\n",
    "string2 = \"keepcalm\"\n",
    "Result , Lenth , Table = longest_common_substring(string1, string2)"
   ]
  }
 ],
 "metadata": {
  "kernelspec": {
   "display_name": "Python 3",
   "language": "python",
   "name": "python3"
  },
  "language_info": {
   "codemirror_mode": {
    "name": "ipython",
    "version": 3
   },
   "file_extension": ".py",
   "mimetype": "text/x-python",
   "name": "python",
   "nbconvert_exporter": "python",
   "pygments_lexer": "ipython3",
   "version": "3.10.11"
  }
 },
 "nbformat": 4,
 "nbformat_minor": 2
}
